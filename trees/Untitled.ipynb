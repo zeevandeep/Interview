{
 "cells": [
  {
   "cell_type": "code",
   "execution_count": 25,
   "metadata": {
    "collapsed": false
   },
   "outputs": [
    {
     "ename": "IndentationError",
     "evalue": "unindent does not match any outer indentation level (<ipython-input-25-d584bab0368b>, line 53)",
     "output_type": "error",
     "traceback": [
      "\u001b[0;36m  File \u001b[0;32m\"<ipython-input-25-d584bab0368b>\"\u001b[0;36m, line \u001b[0;32m53\u001b[0m\n\u001b[0;31m    def postorder(self,node):\u001b[0m\n\u001b[0m                             ^\u001b[0m\n\u001b[0;31mIndentationError\u001b[0m\u001b[0;31m:\u001b[0m unindent does not match any outer indentation level\n"
     ]
    }
   ],
   "source": [
    "class binaryTree():\n",
    "\tdef __init__(self,data):\n",
    "\t\tself.value=data\n",
    "\t\tself.left=None\n",
    "\t\tself.right=None\n",
    "\t\tself.parent=None\n",
    "\n",
    "\t\n",
    "\tdef getValue(self):\n",
    "\t\treturn self.value\n",
    "\t\n",
    "\tdef setLeftBranch(self,node):\t\t\n",
    "\t\tself.left=node\n",
    "\n",
    "\tdef setRightBranch(self,node):\n",
    "\t\tself.right = node\n",
    "\t\n",
    "\tdef getRightBranch(self):\n",
    "\t\treturn self.right\n",
    "\t\n",
    "\tdef getLeftBranch(self):\n",
    "\t \treturn self.left\n",
    "\n",
    "\n",
    "\tdef setParent(self,parent):\n",
    "\t\tself.parent=parent\n",
    "\t\n",
    "\tdef getParent(self):\n",
    "\t\treturn self.parent\n",
    "\n",
    "\tdef __str__(self):\n",
    "\t\treturn str(self.value)\n",
    "\n",
    "\tdef DFS(self,root,value):\n",
    "\t\tstk=[root]\n",
    "\t\t#print stk[0].getValue()\n",
    "\t\twhile len(stk)>=1:\n",
    "\t\t\t#print \"At Node\" + str(stk[0].getValue())\n",
    "\t\t\tif (value == stk[0].getValue()):\n",
    "\t\t\t\tprint \"Value found\" + str(str[0].getValue())\n",
    "\t\t\telse:\n",
    "\t\t\t\ttmp = stk.pop(0)\n",
    "\t\t\t\tstk.insert(0,tmp.getRightBranch())\n",
    "\t\t\t\tstk.insert(0,tmp.getLeftBranch())\n",
    "\n",
    "\tdef inorder(self,node):\n",
    "\t\tif not node:\n",
    "\t\t\treturn\n",
    "\t\telse:\n",
    "\t\t\tself.inorder(node.getLeftBranch())\n",
    "\t\t\tprint node.getValue()\n",
    "\t\t\tself.inorder(node.getRightBranch())\n",
    "    def postorder(self,node):\n",
    "\t\tif not node:\n",
    "\t\t\treturn\n",
    "\t\telse:\n",
    "\t\t\tself.inorder(node.getLeftBranch())\n",
    "\t\t\t\n",
    "\t\t\tself.inorder(node.getRightBranch())\n",
    "            print node.getValue()\n",
    "\n",
    "\n",
    "\n",
    "\n",
    "n5 = binaryTree(5)\n",
    "n2 = binaryTree(2)\n",
    "n1 = binaryTree(1)\n",
    "n4 = binaryTree(4)\n",
    "n8 = binaryTree(8)\n",
    "n6 = binaryTree(6)\n",
    "n7 = binaryTree(7)\n",
    "n3 = binaryTree(3)\n",
    "\n",
    "n5.setLeftBranch(n2)\n",
    "n2.setParent(n5)\n",
    "n5.setRightBranch(n8)\n",
    "n8.setParent(n5)\n",
    "n2.setLeftBranch(n1)\n",
    "n1.setParent(n2)\n",
    "n2.setRightBranch(n4)\n",
    "n4.setParent(n2)\n",
    "n8.setLeftBranch(n6)\n",
    "n6.setParent(n8)\n",
    "n6.setRightBranch(n7)\n",
    "n7.setParent(n6)\n",
    "n4.setLeftBranch(n3)\n",
    "n3.setParent(n4)"
   ]
  },
  {
   "cell_type": "markdown",
   "metadata": {},
   "source": [
    "#####   "
   ]
  },
  {
   "cell_type": "code",
   "execution_count": null,
   "metadata": {
    "collapsed": true
   },
   "outputs": [],
   "source": []
  },
  {
   "cell_type": "code",
   "execution_count": 22,
   "metadata": {
    "collapsed": false
   },
   "outputs": [
    {
     "name": "stdout",
     "output_type": "stream",
     "text": [
      "5\n"
     ]
    }
   ],
   "source": [
    "print n5"
   ]
  },
  {
   "cell_type": "code",
   "execution_count": 23,
   "metadata": {
    "collapsed": false
   },
   "outputs": [
    {
     "name": "stdout",
     "output_type": "stream",
     "text": [
      "5\n"
     ]
    }
   ],
   "source": [
    "print n5"
   ]
  },
  {
   "cell_type": "code",
   "execution_count": 24,
   "metadata": {
    "collapsed": false
   },
   "outputs": [
    {
     "name": "stdout",
     "output_type": "stream",
     "text": [
      "1\n",
      "2\n",
      "3\n",
      "4\n",
      "5\n",
      "6\n",
      "7\n",
      "8\n"
     ]
    }
   ],
   "source": [
    "n5.inorder(n5)"
   ]
  },
  {
   "cell_type": "code",
   "execution_count": 26,
   "metadata": {
    "collapsed": true
   },
   "outputs": [],
   "source": [
    "class binaryTree():\n",
    "\tdef __init__(self,data):\n",
    "\t\tself.value=data\n",
    "\t\tself.left=None\n",
    "\t\tself.right=None\n",
    "\t\tself.parent=None\n",
    "\n",
    "\t\n",
    "\tdef getValue(self):\n",
    "\t\treturn self.value\n",
    "\t\n",
    "\tdef setLeftBranch(self,node):\t\t\n",
    "\t\tself.left=node\n",
    "\n",
    "\tdef setRightBranch(self,node):\n",
    "\t\tself.right = node\n",
    "\t\n",
    "\tdef getRightBranch(self):\n",
    "\t\treturn self.right\n",
    "\t\n",
    "\tdef getLeftBranch(self):\n",
    "\t \treturn self.left\n",
    "\n",
    "\n",
    "\tdef setParent(self,parent):\n",
    "\t\tself.parent=parent\n",
    "\t\n",
    "\tdef getParent(self):\n",
    "\t\treturn self.parent\n",
    "\n",
    "\tdef __str__(self):\n",
    "\t\treturn (self.value)\n",
    "\n",
    "\tdef DFS(self,root,value):\n",
    "\t\tstk=[root]\n",
    "\t\t#print stk[0].getValue()\n",
    "\t\twhile len(stk)>=1:\n",
    "\t\t\t#print \"At Node\" + str(stk[0].getValue())\n",
    "\t\t\tif (value == stk[0].getValue()):\n",
    "\t\t\t\tprint \"Value found\" + str(str[0].getValue())\n",
    "\t\t\telse:\n",
    "\t\t\t\ttmp = stk.pop(0)\n",
    "\t\t\t\tstk.insert(0,tmp.getRightBranch())\n",
    "\t\t\t\tstk.insert(0,tmp.getLeftBranch())\n",
    "\n",
    "\tdef inorder(self,node):\n",
    "\t\tif not node:\n",
    "\t\t\treturn\n",
    "\t\telse:\n",
    "\t\t\tself.inorder(node.getLeftBranch())\n",
    "\t\t\tprint node.getValue()\n",
    "\t\t\tself.inorder(node.getRightBranch())\n",
    "\n",
    "\tdef  postorder(self,node):\n",
    "\t\tif not node:\n",
    "\t\t\treturn\n",
    "\t\telse:\n",
    "\t\t\tself.inorder(node.getLeftBranch())\n",
    "\t\t\tself.inorder(node.getRightBranch())\n",
    "\t\t\tprint node.getValue()\n",
    "\n",
    "\tdef  preorder(self,node):\n",
    "\t\tif not node:\n",
    "\t\t\treturn\n",
    "\t\telse:\n",
    "\t\t\tprint node.getValue()\n",
    "\t\t\tself.inorder(node.getLeftBranch())\n",
    "\t\t\tself.inorder(node.getRightBranch())\n",
    "\t\t\t\n",
    "\n",
    "\n",
    "n5 = binaryTree(5)\n",
    "n2 = binaryTree(2)\n",
    "n1 = binaryTree(1)\n",
    "n4 = binaryTree(4)\n",
    "n8 = binaryTree(8)\n",
    "n6 = binaryTree(6)\n",
    "n7 = binaryTree(7)\n",
    "n3 = binaryTree(3)\n",
    "\n",
    "n5.setLeftBranch(n2)\n",
    "n2.setParent(n5)\n",
    "n5.setRightBranch(n8)\n",
    "n8.setParent(n5)\n",
    "n2.setLeftBranch(n1)\n",
    "n1.setParent(n2)\n",
    "n2.setRightBranch(n4)\n",
    "n4.setParent(n2)\n",
    "n8.setLeftBranch(n6)\n",
    "n6.setParent(n8)\n",
    "n6.setRightBranch(n7)\n",
    "n7.setParent(n6)\n",
    "n4.setLeftBranch(n3)\n",
    "n3.setParent(n4)\n",
    "\n",
    "\n"
   ]
  },
  {
   "cell_type": "code",
   "execution_count": null,
   "metadata": {
    "collapsed": true
   },
   "outputs": [],
   "source": []
  },
  {
   "cell_type": "code",
   "execution_count": 27,
   "metadata": {
    "collapsed": false
   },
   "outputs": [
    {
     "name": "stdout",
     "output_type": "stream",
     "text": [
      "5\n",
      "1\n",
      "2\n",
      "3\n",
      "4\n",
      "6\n",
      "7\n",
      "8\n"
     ]
    }
   ],
   "source": [
    "n5.preorder(n5)"
   ]
  }
 ],
 "metadata": {
  "kernelspec": {
   "display_name": "Python 2",
   "language": "python",
   "name": "python2"
  },
  "language_info": {
   "codemirror_mode": {
    "name": "ipython",
    "version": 2
   },
   "file_extension": ".py",
   "mimetype": "text/x-python",
   "name": "python",
   "nbconvert_exporter": "python",
   "pygments_lexer": "ipython2",
   "version": "2.7.9"
  }
 },
 "nbformat": 4,
 "nbformat_minor": 0
}
